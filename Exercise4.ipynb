{
 "cells": [
  {
   "cell_type": "code",
   "execution_count": null,
   "id": "3ab79240",
   "metadata": {},
   "outputs": [],
   "source": [
    "# Exercise Plot for Maxpulse and Calories for Histogram"
   ]
  },
  {
   "cell_type": "code",
   "execution_count": null,
   "id": "d5e6606d",
   "metadata": {},
   "outputs": [],
   "source": [
    "# Libraries for Data manipulation and plotting\n",
    "import pandas as pd\n",
    "import matplotlib.pyplot as plt\n",
    "import seaborn as sns\n",
    "import numpy as np\n",
    "\n",
    "# Load the dataset\n",
    "df = pd.read_csv('data.csv')"
   ]
  },
  {
   "cell_type": "code",
   "execution_count": null,
   "id": "a434c800",
   "metadata": {},
   "outputs": [],
   "source": [
    "# Plot histograms for Maxpulse and Calories\n",
    "plt.figure(figsize=(15, 10))\n",
    "\n",
    "# Histogram for Maxpulse\n",
    "plt.subplot(2, 2, 3)\n",
    "sns.histplot(df['Maxpulse'], bins=30, kde=True)\n",
    "plt.title('Maxpulse Distribution')\n",
    "\n",
    "# Histogram for Calories\n",
    "plt.subplot(2, 2, 4)\n",
    "sns.histplot(df['Calories'], bins=20, kde=True)\n",
    "plt.title('Calories Distribution')\n",
    "\n",
    "plt.tight_layout()\n",
    "plt.show()"
   ]
  }
 ],
 "metadata": {
  "kernelspec": {
   "display_name": ".venv",
   "language": "python",
   "name": "python3"
  },
  "language_info": {
   "name": "python",
   "version": "3.14.0"
  }
 },
 "nbformat": 4,
 "nbformat_minor": 5
}
